{
 "cells": [
  {
   "cell_type": "markdown",
   "source": [
    "For this assignment please complete the directed code segments below. \n",
    "\n",
    "Please make sure that when names for functions, files, etc... are specified, that you use the directed value, including capitalization and spaces. The submission system on GitHub looks for specific values, and if yours do not match exactly, your code will fail. The pieces that are graded are labled with #AUTOGRADED in the code segment, outside of providing what is asked for there, you are free to build pretty much any other code that helps you - it may be useful to preview data, print out values, etc...\n",
    "\n",
    "You may call external functions and import external code if you find it useful, except if you are explicitly directed to code something yourself - e.g. if you are asked to calculate the average of a set of numbers, you do not need to write code to loop through each value to add them up and divide, you can use a prebuilt average function. \n",
    "\n",
    "Please change all of the \"Return True\" to return your actual answer. "
   ],
   "metadata": {}
  },
  {
   "cell_type": "code",
   "execution_count": 1,
   "source": [
    "#Import some potentially usefull stuff. \n",
    "#Note - if you need to INSTALL any other packages, add the package name to the requirements.txt file.\n",
    "#I think that the stuff that you NEED should already be installed here. \n",
    "import thinkplot\n",
    "import thinkstats2\n",
    "import sys\n",
    "import pandas as pd\n",
    "import numpy as np\n",
    "import scipy"
   ],
   "outputs": [],
   "metadata": {}
  },
  {
   "cell_type": "code",
   "execution_count": 31,
   "source": [
    "#Load data and do some minor cleanup\n",
    "df = pd.read_csv(\"diabetes.csv\")\n",
    "df.dropna()\n",
    "df = df[df[\"BloodPressure\"]>0]\n",
    "df = df[df[\"SkinThickness\"]>0]\n",
    "df = df[df[\"BMI\"]>0]\n",
    "df = df[df[\"Glucose\"]>0]\n",
    "df = df[df[\"Insulin\"]>0]\n",
    "df.head()"
   ],
   "outputs": [
    {
     "output_type": "execute_result",
     "data": {
      "text/html": [
       "<div>\n",
       "<style scoped>\n",
       "    .dataframe tbody tr th:only-of-type {\n",
       "        vertical-align: middle;\n",
       "    }\n",
       "\n",
       "    .dataframe tbody tr th {\n",
       "        vertical-align: top;\n",
       "    }\n",
       "\n",
       "    .dataframe thead th {\n",
       "        text-align: right;\n",
       "    }\n",
       "</style>\n",
       "<table border=\"1\" class=\"dataframe\">\n",
       "  <thead>\n",
       "    <tr style=\"text-align: right;\">\n",
       "      <th></th>\n",
       "      <th>Pregnancies</th>\n",
       "      <th>Glucose</th>\n",
       "      <th>BloodPressure</th>\n",
       "      <th>SkinThickness</th>\n",
       "      <th>Insulin</th>\n",
       "      <th>BMI</th>\n",
       "      <th>DiabetesPedigreeFunction</th>\n",
       "      <th>Age</th>\n",
       "      <th>Outcome</th>\n",
       "    </tr>\n",
       "  </thead>\n",
       "  <tbody>\n",
       "    <tr>\n",
       "      <th>3</th>\n",
       "      <td>1</td>\n",
       "      <td>89</td>\n",
       "      <td>66</td>\n",
       "      <td>23</td>\n",
       "      <td>94</td>\n",
       "      <td>28.1</td>\n",
       "      <td>0.167</td>\n",
       "      <td>21</td>\n",
       "      <td>0</td>\n",
       "    </tr>\n",
       "    <tr>\n",
       "      <th>4</th>\n",
       "      <td>0</td>\n",
       "      <td>137</td>\n",
       "      <td>40</td>\n",
       "      <td>35</td>\n",
       "      <td>168</td>\n",
       "      <td>43.1</td>\n",
       "      <td>2.288</td>\n",
       "      <td>33</td>\n",
       "      <td>1</td>\n",
       "    </tr>\n",
       "    <tr>\n",
       "      <th>6</th>\n",
       "      <td>3</td>\n",
       "      <td>78</td>\n",
       "      <td>50</td>\n",
       "      <td>32</td>\n",
       "      <td>88</td>\n",
       "      <td>31.0</td>\n",
       "      <td>0.248</td>\n",
       "      <td>26</td>\n",
       "      <td>1</td>\n",
       "    </tr>\n",
       "    <tr>\n",
       "      <th>8</th>\n",
       "      <td>2</td>\n",
       "      <td>197</td>\n",
       "      <td>70</td>\n",
       "      <td>45</td>\n",
       "      <td>543</td>\n",
       "      <td>30.5</td>\n",
       "      <td>0.158</td>\n",
       "      <td>53</td>\n",
       "      <td>1</td>\n",
       "    </tr>\n",
       "    <tr>\n",
       "      <th>13</th>\n",
       "      <td>1</td>\n",
       "      <td>189</td>\n",
       "      <td>60</td>\n",
       "      <td>23</td>\n",
       "      <td>846</td>\n",
       "      <td>30.1</td>\n",
       "      <td>0.398</td>\n",
       "      <td>59</td>\n",
       "      <td>1</td>\n",
       "    </tr>\n",
       "  </tbody>\n",
       "</table>\n",
       "</div>"
      ],
      "text/plain": [
       "    Pregnancies  Glucose  BloodPressure  SkinThickness  Insulin   BMI  \\\n",
       "3             1       89             66             23       94  28.1   \n",
       "4             0      137             40             35      168  43.1   \n",
       "6             3       78             50             32       88  31.0   \n",
       "8             2      197             70             45      543  30.5   \n",
       "13            1      189             60             23      846  30.1   \n",
       "\n",
       "    DiabetesPedigreeFunction  Age  Outcome  \n",
       "3                      0.167   21        0  \n",
       "4                      2.288   33        1  \n",
       "6                      0.248   26        1  \n",
       "8                      0.158   53        1  \n",
       "13                     0.398   59        1  "
      ]
     },
     "metadata": {},
     "execution_count": 31
    }
   ],
   "metadata": {}
  },
  {
   "cell_type": "code",
   "execution_count": 32,
   "source": [
    "df.describe(include=\"all\")"
   ],
   "outputs": [
    {
     "output_type": "execute_result",
     "data": {
      "text/html": [
       "<div>\n",
       "<style scoped>\n",
       "    .dataframe tbody tr th:only-of-type {\n",
       "        vertical-align: middle;\n",
       "    }\n",
       "\n",
       "    .dataframe tbody tr th {\n",
       "        vertical-align: top;\n",
       "    }\n",
       "\n",
       "    .dataframe thead th {\n",
       "        text-align: right;\n",
       "    }\n",
       "</style>\n",
       "<table border=\"1\" class=\"dataframe\">\n",
       "  <thead>\n",
       "    <tr style=\"text-align: right;\">\n",
       "      <th></th>\n",
       "      <th>Pregnancies</th>\n",
       "      <th>Glucose</th>\n",
       "      <th>BloodPressure</th>\n",
       "      <th>SkinThickness</th>\n",
       "      <th>Insulin</th>\n",
       "      <th>BMI</th>\n",
       "      <th>DiabetesPedigreeFunction</th>\n",
       "      <th>Age</th>\n",
       "      <th>Outcome</th>\n",
       "    </tr>\n",
       "  </thead>\n",
       "  <tbody>\n",
       "    <tr>\n",
       "      <th>count</th>\n",
       "      <td>392.000000</td>\n",
       "      <td>392.000000</td>\n",
       "      <td>392.000000</td>\n",
       "      <td>392.000000</td>\n",
       "      <td>392.000000</td>\n",
       "      <td>392.000000</td>\n",
       "      <td>392.000000</td>\n",
       "      <td>392.000000</td>\n",
       "      <td>392.000000</td>\n",
       "    </tr>\n",
       "    <tr>\n",
       "      <th>mean</th>\n",
       "      <td>3.301020</td>\n",
       "      <td>122.627551</td>\n",
       "      <td>70.663265</td>\n",
       "      <td>29.145408</td>\n",
       "      <td>156.056122</td>\n",
       "      <td>33.086224</td>\n",
       "      <td>0.523046</td>\n",
       "      <td>30.864796</td>\n",
       "      <td>0.331633</td>\n",
       "    </tr>\n",
       "    <tr>\n",
       "      <th>std</th>\n",
       "      <td>3.211424</td>\n",
       "      <td>30.860781</td>\n",
       "      <td>12.496092</td>\n",
       "      <td>10.516424</td>\n",
       "      <td>118.841690</td>\n",
       "      <td>7.027659</td>\n",
       "      <td>0.345488</td>\n",
       "      <td>10.200777</td>\n",
       "      <td>0.471401</td>\n",
       "    </tr>\n",
       "    <tr>\n",
       "      <th>min</th>\n",
       "      <td>0.000000</td>\n",
       "      <td>56.000000</td>\n",
       "      <td>24.000000</td>\n",
       "      <td>7.000000</td>\n",
       "      <td>14.000000</td>\n",
       "      <td>18.200000</td>\n",
       "      <td>0.085000</td>\n",
       "      <td>21.000000</td>\n",
       "      <td>0.000000</td>\n",
       "    </tr>\n",
       "    <tr>\n",
       "      <th>25%</th>\n",
       "      <td>1.000000</td>\n",
       "      <td>99.000000</td>\n",
       "      <td>62.000000</td>\n",
       "      <td>21.000000</td>\n",
       "      <td>76.750000</td>\n",
       "      <td>28.400000</td>\n",
       "      <td>0.269750</td>\n",
       "      <td>23.000000</td>\n",
       "      <td>0.000000</td>\n",
       "    </tr>\n",
       "    <tr>\n",
       "      <th>50%</th>\n",
       "      <td>2.000000</td>\n",
       "      <td>119.000000</td>\n",
       "      <td>70.000000</td>\n",
       "      <td>29.000000</td>\n",
       "      <td>125.500000</td>\n",
       "      <td>33.200000</td>\n",
       "      <td>0.449500</td>\n",
       "      <td>27.000000</td>\n",
       "      <td>0.000000</td>\n",
       "    </tr>\n",
       "    <tr>\n",
       "      <th>75%</th>\n",
       "      <td>5.000000</td>\n",
       "      <td>143.000000</td>\n",
       "      <td>78.000000</td>\n",
       "      <td>37.000000</td>\n",
       "      <td>190.000000</td>\n",
       "      <td>37.100000</td>\n",
       "      <td>0.687000</td>\n",
       "      <td>36.000000</td>\n",
       "      <td>1.000000</td>\n",
       "    </tr>\n",
       "    <tr>\n",
       "      <th>max</th>\n",
       "      <td>17.000000</td>\n",
       "      <td>198.000000</td>\n",
       "      <td>110.000000</td>\n",
       "      <td>63.000000</td>\n",
       "      <td>846.000000</td>\n",
       "      <td>67.100000</td>\n",
       "      <td>2.420000</td>\n",
       "      <td>81.000000</td>\n",
       "      <td>1.000000</td>\n",
       "    </tr>\n",
       "  </tbody>\n",
       "</table>\n",
       "</div>"
      ],
      "text/plain": [
       "       Pregnancies     Glucose  BloodPressure  SkinThickness     Insulin  \\\n",
       "count   392.000000  392.000000     392.000000     392.000000  392.000000   \n",
       "mean      3.301020  122.627551      70.663265      29.145408  156.056122   \n",
       "std       3.211424   30.860781      12.496092      10.516424  118.841690   \n",
       "min       0.000000   56.000000      24.000000       7.000000   14.000000   \n",
       "25%       1.000000   99.000000      62.000000      21.000000   76.750000   \n",
       "50%       2.000000  119.000000      70.000000      29.000000  125.500000   \n",
       "75%       5.000000  143.000000      78.000000      37.000000  190.000000   \n",
       "max      17.000000  198.000000     110.000000      63.000000  846.000000   \n",
       "\n",
       "              BMI  DiabetesPedigreeFunction         Age     Outcome  \n",
       "count  392.000000                392.000000  392.000000  392.000000  \n",
       "mean    33.086224                  0.523046   30.864796    0.331633  \n",
       "std      7.027659                  0.345488   10.200777    0.471401  \n",
       "min     18.200000                  0.085000   21.000000    0.000000  \n",
       "25%     28.400000                  0.269750   23.000000    0.000000  \n",
       "50%     33.200000                  0.449500   27.000000    0.000000  \n",
       "75%     37.100000                  0.687000   36.000000    1.000000  \n",
       "max     67.100000                  2.420000   81.000000    1.000000  "
      ]
     },
     "metadata": {},
     "execution_count": 32
    }
   ],
   "metadata": {}
  },
  {
   "cell_type": "markdown",
   "source": [
    "For all of these functions, you only need things that are passed into that function via an argument. E.g. if you have some function:\n",
    "\n",
    "def doSomeStuff(someDataframe, aColumnName, someValue):\n",
    "    ....\n",
    "    return someFinalValue\n",
    "\n",
    "Inside of that, you can do all your stuff with those 3 varaibles. You can create more, as many as you want, inside the function, but you don't need any other data to make that caclulation. You can use outside functions mean(), std(), isnull(), etc... as long as you've imported those libraries. You do not need to refer to any other variables with data in them outside of the stuff in the arguments though. "
   ],
   "metadata": {}
  },
  {
   "cell_type": "markdown",
   "source": [
    "Complete the following function to perform a calculation of correlation between two columns in one dataframe. The dataframe, and both the column names are passed in as arguments. The function should calculate the Pearson correlation if the spearman argument is false (the default), and the correlation should be the Spearman if this value is true.  \n",
    "\n",
    "Note - one way to make a decision between two (or more) things is an if statement. There are lots of examples in the book, previous exercises, or online in documentation."
   ],
   "metadata": {}
  },
  {
   "cell_type": "code",
   "execution_count": 8,
   "source": [
    "#Check correlations\n",
    "#Note - test tolerance is .01\n",
    "def multiCorr(df1, columnName1, columnName2, spearman=False):\n",
    "    finalCorr = -999\n",
    "    if spearman == True:\n",
    "        finalCorr = thinkstats2.SpearmanCorr(df1[columnName1], df1[columnName2])\n",
    "    if spearman == False:\n",
    "        finalCorr = thinkstats2.Corr(df1[columnName1], df1[columnName2])\n",
    "    return finalCorr"
   ],
   "outputs": [],
   "metadata": {}
  },
  {
   "cell_type": "code",
   "execution_count": 33,
   "source": [
    "#Example of calling the above function\n",
    "cor_test = multiCorr(df, \"Glucose\", \"BloodPressure\", spearman=False)\n",
    "cor_test"
   ],
   "outputs": [
    {
     "output_type": "execute_result",
     "data": {
      "text/plain": [
       "0.21002657364775348"
      ]
     },
     "metadata": {},
     "execution_count": 33
    }
   ],
   "metadata": {}
  },
  {
   "cell_type": "markdown",
   "source": [
    "Complete the following function to rank 3 columns in a dataframe by their skew, from lowest to highest. There is an assumption that all the columns are (at least roughly) normally distributed. \n",
    "\n",
    "For the skew calculation, please use Pearson's median skewness. There is the code of that calculation in section 6.8 of the text. "
   ],
   "metadata": {}
  },
  {
   "cell_type": "code",
   "execution_count": 21,
   "source": [
    "#RankSkew\n",
    "#Note: this function returns multiple values. First, second, third should be column names. \n",
    "#Skew1, skew2, skew3 should be the actual skew value.\n",
    "#The order of these returns matters. See the example of calling the function below for use.\n",
    "def rankSkew(df1, columnName1, columnName2, columnName3):\n",
    "    skew1 = thinkstats2.PearsonMedianSkewness(df1[columnName1])\n",
    "    skew2 = thinkstats2.PearsonMedianSkewness(df1[columnName2])\n",
    "    skew3 = thinkstats2.PearsonMedianSkewness(df1[columnName3])\n",
    "    #print(skew1, skew2, skew3)\n",
    "    skewList = [(skew1, columnName1), (skew2, columnName2), (skew3, columnName3)]\n",
    "    skewList.sort(key=lambda tup: tup[0])\n",
    "    firstTmp = skewList[0]\n",
    "    first = firstTmp[1]\n",
    "    skew1 = firstTmp[0]\n",
    "    secTmp = skewList[1]\n",
    "    second = secTmp[1]\n",
    "    skew1 = secTmp[0]\n",
    "    thiTmp = skewList[2]\n",
    "    third = thiTmp[1]\n",
    "    skew1 = thiTmp[0]\n",
    "    return first, skew1, second, skew2, third, skew3"
   ],
   "outputs": [],
   "metadata": {}
  },
  {
   "cell_type": "code",
   "execution_count": 34,
   "source": [
    "#Execute the above skew function\n",
    "firstColumnName, firstSkew, secondColumnName, secondSkew, thirdColumnName, thirdSkew = rankSkew(df, \"Glucose\", \"BloodPressure\", \"BMI\")\n",
    "#print(\"Least Skewed:\", firstColumnName, firstSkew)\n",
    "#print(\"2nd Least Skewed:\", secondColumnName, secondSkew)\n",
    "#print(\"Most Skewed:\", thirdColumnName, thirdSkew)"
   ],
   "outputs": [
    {
     "output_type": "stream",
     "name": "stdout",
     "text": [
      "0.35308765325092956 0.1594369550855265 -0.048631090508113234\n",
      "Least Skewed: BMI 0.35308765325092956\n",
      "2nd Least Skewed: BloodPressure 0.1594369550855265\n",
      "Most Skewed: Glucose -0.048631090508113234\n"
     ]
    }
   ],
   "metadata": {}
  },
  {
   "cell_type": "markdown",
   "source": [
    "Complete the following function to return an analytical normal model, and an indication of if that normal model meets a threshold for fitting the data. \n",
    "\n",
    "- For the test of normality, use the function scipy.stats.normaltest(data). This function will return two values, k and p. e.g\n",
    "\n",
    "    - k2, p = scipy.stats.normaltest(df[\"return\"]). Use p, ignore k.\n",
    "\n",
    "    - For this use the p value as the criteria, if p is less than the value passed as the 'threshold', return False, if it is greater, return True for the part of the return value called \"fitted\".\n",
    "\n",
    "- To create the analytical model itself, use the function: scipy.stats.norm(loc=theMean, scale=theStandDev).\n",
    "\n",
    "    - e.g. model = scipy.stats.norm(loc=myCalculatedMeanFromTheData, scale=myCalculatedStdDevFromTheData)\n",
    "\n",
    "- The threshold value is just a decimal number, e.g. .1, .256. It defaults to .05 as shown below. "
   ],
   "metadata": {}
  },
  {
   "cell_type": "code",
   "execution_count": 39,
   "source": [
    "#Analytical distribution test. \n",
    "def passAnalytical(df1, columnName, threshold=.05):\n",
    "    k, p = scipy.stats.normaltest(df1[columnName])\n",
    "    fitted = False\n",
    "    if fitted > threshold:\n",
    "        fitted = True\n",
    "    model = scipy.stats.norm(loc=df1[columnName].mean(), scale=df1[columnName].std())\n",
    "    #print(p)\n",
    "    return fitted, model"
   ],
   "outputs": [],
   "metadata": {}
  },
  {
   "cell_type": "code",
   "execution_count": 40,
   "source": [
    "#Example of calling the function above\n",
    "doesItFitNorm, normModel = passAnalytical(df, \"Glucose\", .1)\n",
    "doesItFitNorm"
   ],
   "outputs": [
    {
     "output_type": "stream",
     "name": "stdout",
     "text": [
      "1.3277887088487345e-05\n"
     ]
    },
    {
     "output_type": "execute_result",
     "data": {
      "text/plain": [
       "False"
      ]
     },
     "metadata": {},
     "execution_count": 40
    }
   ],
   "metadata": {}
  },
  {
   "cell_type": "markdown",
   "source": [
    "Log normal or normal. Perform a normal test and a log normal test. If the resulting score for the log normal is greater than the normal score, then return True. If it is lesser or equal, return false. \n",
    "Use the same normal test function from the previous question. \n",
    "I used np.log() to get the log values in the transformation. "
   ],
   "metadata": {}
  },
  {
   "cell_type": "code",
   "execution_count": 41,
   "source": [
    "def lognormOrNorm(df1, columnName):\n",
    "    k1, pNorm = scipy.stats.normaltest(df1[columnName])\n",
    "    k2, pLog = scipy.stats.normaltest(np.log(df1[columnName]))\n",
    "    isLog = False\n",
    "    if pNorm >= pLog:\n",
    "        isLog = True\n",
    "    #print(pNorm, pLog)\n",
    "    return isLog"
   ],
   "outputs": [],
   "metadata": {}
  },
  {
   "cell_type": "code",
   "execution_count": 43,
   "source": [
    "test = lognormOrNorm(df, \"BloodPressure\")\n",
    "test"
   ],
   "outputs": [
    {
     "output_type": "stream",
     "name": "stdout",
     "text": [
      "0.030164917115239397 3.494505962415555e-21\n"
     ]
    },
    {
     "output_type": "execute_result",
     "data": {
      "text/plain": [
       "True"
      ]
     },
     "metadata": {},
     "execution_count": 43
    }
   ],
   "metadata": {}
  }
 ],
 "metadata": {
  "orig_nbformat": 4,
  "language_info": {
   "name": "python",
   "version": "3.8.3",
   "mimetype": "text/x-python",
   "codemirror_mode": {
    "name": "ipython",
    "version": 3
   },
   "pygments_lexer": "ipython3",
   "nbconvert_exporter": "python",
   "file_extension": ".py"
  },
  "kernelspec": {
   "name": "python3",
   "display_name": "Python 3.8.3 64-bit ('base': conda)"
  },
  "interpreter": {
   "hash": "f7dd21bfe8933d21e2c58a22bc74eff6eccb2180dc6c2e2695cf2d3822934f32"
  }
 },
 "nbformat": 4,
 "nbformat_minor": 2
}