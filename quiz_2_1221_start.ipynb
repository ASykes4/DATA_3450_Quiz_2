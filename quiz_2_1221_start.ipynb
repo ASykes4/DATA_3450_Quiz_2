{
 "cells": [
  {
   "cell_type": "code",
   "execution_count": null,
   "metadata": {},
   "outputs": [],
   "source": [
    "#import thinkplot\n",
    "#import thinkstats2\n",
    "import pandas as pd\n",
    "import numpy as np\n",
    "import math\n",
    "import scipy.stats as ss\n",
    "import thinkplot\n",
    "import thinkstats2\n",
    "from sklearn.metrics import mean_squared_error\n",
    "from sklearn.linear_model import LinearRegression\n",
    "\n",
    "##Seaborn for fancy plots. \n",
    "import matplotlib.pyplot as plt\n",
    "import seaborn as sns\n",
    "plt.rcParams[\"figure.figsize\"] = (15,5)"
   ]
  },
  {
   "cell_type": "markdown",
   "metadata": {},
   "source": [
    "## Quiz 2 - Get Hyp'\n",
    "\n",
    "<ul>\n",
    "<li> Use this as a starting point, but answer the questions on Moodle. \n",
    "</ul>"
   ]
  },
  {
   "cell_type": "markdown",
   "metadata": {},
   "source": [
    "#### Data Dictionary\n",
    "<ul>\n",
    "<li>credit.policy: 1 if the customer meets the credit underwriting criteria of LendingClub.com, and 0 otherwise.\n",
    "<li>purpose: The purpose of the loan (takes values \"credit_card\", \"debt_consolidation\", \"educational\", \"major_purchase\", \"small_business\", and \"all_other\").\n",
    "<li>int.rate: The interest rate of the loan, as a proportion (a rate of 11% would be stored as 0.11). Borrowers judged by LendingClub.com to be more risky are assigned higher interest rates.\n",
    "<li>installment: The monthly installments owed by the borrower if the loan is funded.\n",
    "<li>log.annual.inc: The natural log of the self-reported annual income of the borrower.\n",
    "<li>dti: The debt-to-income ratio of the borrower (amount of debt divided by annual income).\n",
    "<li>fico: The FICO credit score of the borrower.\n",
    "<li>days.with.cr.line: The number of days the borrower has had a credit line.\n",
    "<li>revol.bal: The borrower's revolving balance (amount unpaid at the end of the credit card billing cycle).\n",
    "<li>revol.util: The borrower's revolving line utilization rate (the amount of the credit line used relative to total credit available).\n",
    "<li>inq.last.6mths: The borrower's number of inquiries by creditors in the last 6 months.\n",
    "<li>not.fully.paid: 1 if the borrower failed to repay their loan, 0 if they have not failed\n",
    "</ul>"
   ]
  },
  {
   "cell_type": "markdown",
   "metadata": {},
   "source": [
    "#### FICO Score Groups\n",
    "\n",
    "![FICO](fico_range.png \"FICO Ranges\")"
   ]
  },
  {
   "cell_type": "code",
   "execution_count": null,
   "metadata": {},
   "outputs": [],
   "source": [
    "# Please don't alter this part. \n",
    "df = pd.read_csv(\"loan_data.csv\")\n",
    "df.drop(columns={\"delinq.2yrs\", \"pub.rec\"}, inplace=True)\n",
    "df.head()"
   ]
  },
  {
   "cell_type": "markdown",
   "metadata": {},
   "source": [
    "### Visualize/Explore Data - If You Want, You Do You"
   ]
  },
  {
   "cell_type": "code",
   "execution_count": null,
   "metadata": {},
   "outputs": [],
   "source": []
  },
  {
   "cell_type": "markdown",
   "metadata": {},
   "source": [
    "### Solutions"
   ]
  },
  {
   "cell_type": "code",
   "execution_count": null,
   "metadata": {},
   "outputs": [],
   "source": []
  }
 ],
 "metadata": {
  "kernelspec": {
   "display_name": "Python 3.9.7 ('ml3950')",
   "language": "python",
   "name": "python3"
  },
  "language_info": {
   "codemirror_mode": {
    "name": "ipython",
    "version": 3
   },
   "file_extension": ".py",
   "mimetype": "text/x-python",
   "name": "python",
   "nbconvert_exporter": "python",
   "pygments_lexer": "ipython3",
   "version": "3.9.7"
  },
  "orig_nbformat": 4,
  "vscode": {
   "interpreter": {
    "hash": "4d722d3adfa415172c1f5238b519fb86b488acdae450fd691ab06c09f4ca9173"
   }
  }
 },
 "nbformat": 4,
 "nbformat_minor": 2
}
