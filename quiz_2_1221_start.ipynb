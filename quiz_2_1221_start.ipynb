{
 "cells": [
  {
   "cell_type": "code",
   "execution_count": 30,
   "metadata": {},
   "outputs": [],
   "source": [
    "#import thinkplot\n",
    "#import thinkstats2\n",
    "import pandas as pd\n",
    "import numpy as np\n",
    "import math\n",
    "import scipy.stats as ss\n",
    "import thinkplot\n",
    "import thinkstats2\n",
    "from statsmodels.stats.power import TTestPower\n",
    "from sklearn.metrics import mean_squared_error\n",
    "from sklearn.linear_model import LinearRegression\n",
    "\n",
    "##Seaborn for fancy plots. \n",
    "import matplotlib.pyplot as plt\n",
    "import seaborn as sns\n",
    "plt.rcParams[\"figure.figsize\"] = (15,5)"
   ]
  },
  {
   "cell_type": "markdown",
   "metadata": {},
   "source": [
    "# Quiz 2 - Get Hyp'\n",
    "\n",
    "<ul>\n",
    "<li> Use this as a starting point for your work, but answer the questions on Moodle. \n",
    "<li> Publish this to your GitHub and submit the link in the question on Moodle. \n",
    "</ul>"
   ]
  },
  {
   "cell_type": "markdown",
   "metadata": {},
   "source": [
    "## Potentially Useful Information\n",
    "\n",
    "#### Data Dictionary\n",
    "<ul>\n",
    "<li>credit.policy: 1 if the customer meets the credit underwriting criteria of LendingClub.com, and 0 otherwise.\n",
    "<li>purpose: The purpose of the loan (takes values \"credit_card\", \"debt_consolidation\", \"educational\", \"major_purchase\", \"small_business\", and \"all_other\").\n",
    "<li>int.rate: The interest rate of the loan, as a proportion (a rate of 11% would be stored as 0.11). Borrowers judged by LendingClub.com to be more risky are assigned higher interest rates.\n",
    "<li>installment: The monthly installments owed by the borrower if the loan is funded.\n",
    "<li>log.annual.inc: The natural log of the self-reported annual income of the borrower.\n",
    "<li>dti: The debt-to-income ratio of the borrower (amount of debt divided by annual income).\n",
    "<li>fico: The FICO credit score of the borrower.\n",
    "<li>days.with.cr.line: The number of days the borrower has had a credit line.\n",
    "<li>revol.bal: The borrower's revolving balance (amount unpaid at the end of the credit card billing cycle).\n",
    "<li>revol.util: The borrower's revolving line utilization rate (the amount of the credit line used relative to total credit available).\n",
    "<li>inq.last.6mths: The borrower's number of inquiries by creditors in the last 6 months.\n",
    "<li>not.fully.paid: 1 if the borrower failed to repay their loan, 0 if they have not failed\n",
    "</ul>\n",
    "\n",
    "#### FICO Score Groups\n",
    "\n",
    "![FICO](fico_range.png \"FICO Ranges\")\n",
    "\n",
    "#### Note on ANOVA - Might be Useful, Might Not\n",
    "\n",
    "> @JeremyMiles is right. First, there's a rule of thumb that the ANOVA is robust to heterogeneity of variance so long as the largest variance is not more than 4 times the smallest variance. Furthermore, the general effect of heterogeneity of variance is to make the ANOVA less efficient. That is, you would have lower power. Since you have a significant effect anyway, there is less reason to be concerned here. \n",
    "- https://stats.stackexchange.com/questions/56971/alternative-to-one-way-anova-unequal-variance"
   ]
  },
  {
   "cell_type": "code",
   "execution_count": 41,
   "metadata": {},
   "outputs": [
    {
     "data": {
      "text/html": [
       "<div>\n",
       "<style scoped>\n",
       "    .dataframe tbody tr th:only-of-type {\n",
       "        vertical-align: middle;\n",
       "    }\n",
       "\n",
       "    .dataframe tbody tr th {\n",
       "        vertical-align: top;\n",
       "    }\n",
       "\n",
       "    .dataframe thead th {\n",
       "        text-align: right;\n",
       "    }\n",
       "</style>\n",
       "<table border=\"1\" class=\"dataframe\">\n",
       "  <thead>\n",
       "    <tr style=\"text-align: right;\">\n",
       "      <th></th>\n",
       "      <th>credit.policy</th>\n",
       "      <th>purpose</th>\n",
       "      <th>int.rate</th>\n",
       "      <th>installment</th>\n",
       "      <th>log.annual.inc</th>\n",
       "      <th>dti</th>\n",
       "      <th>fico</th>\n",
       "      <th>days.with.cr.line</th>\n",
       "      <th>revol.bal</th>\n",
       "      <th>revol.util</th>\n",
       "      <th>inq.last.6mths</th>\n",
       "      <th>not.fully.paid</th>\n",
       "    </tr>\n",
       "  </thead>\n",
       "  <tbody>\n",
       "    <tr>\n",
       "      <th>0</th>\n",
       "      <td>1</td>\n",
       "      <td>debt_consolidation</td>\n",
       "      <td>0.1189</td>\n",
       "      <td>829.10</td>\n",
       "      <td>11.350407</td>\n",
       "      <td>19.48</td>\n",
       "      <td>737</td>\n",
       "      <td>5639.958333</td>\n",
       "      <td>28854</td>\n",
       "      <td>52.1</td>\n",
       "      <td>0</td>\n",
       "      <td>0</td>\n",
       "    </tr>\n",
       "    <tr>\n",
       "      <th>1</th>\n",
       "      <td>1</td>\n",
       "      <td>credit_card</td>\n",
       "      <td>0.1071</td>\n",
       "      <td>228.22</td>\n",
       "      <td>11.082143</td>\n",
       "      <td>14.29</td>\n",
       "      <td>707</td>\n",
       "      <td>2760.000000</td>\n",
       "      <td>33623</td>\n",
       "      <td>76.7</td>\n",
       "      <td>0</td>\n",
       "      <td>0</td>\n",
       "    </tr>\n",
       "    <tr>\n",
       "      <th>2</th>\n",
       "      <td>1</td>\n",
       "      <td>debt_consolidation</td>\n",
       "      <td>0.1357</td>\n",
       "      <td>366.86</td>\n",
       "      <td>10.373491</td>\n",
       "      <td>11.63</td>\n",
       "      <td>682</td>\n",
       "      <td>4710.000000</td>\n",
       "      <td>3511</td>\n",
       "      <td>25.6</td>\n",
       "      <td>1</td>\n",
       "      <td>0</td>\n",
       "    </tr>\n",
       "    <tr>\n",
       "      <th>3</th>\n",
       "      <td>1</td>\n",
       "      <td>debt_consolidation</td>\n",
       "      <td>0.1008</td>\n",
       "      <td>162.34</td>\n",
       "      <td>11.350407</td>\n",
       "      <td>8.10</td>\n",
       "      <td>712</td>\n",
       "      <td>2699.958333</td>\n",
       "      <td>33667</td>\n",
       "      <td>73.2</td>\n",
       "      <td>1</td>\n",
       "      <td>0</td>\n",
       "    </tr>\n",
       "    <tr>\n",
       "      <th>4</th>\n",
       "      <td>1</td>\n",
       "      <td>credit_card</td>\n",
       "      <td>0.1426</td>\n",
       "      <td>102.92</td>\n",
       "      <td>11.299732</td>\n",
       "      <td>14.97</td>\n",
       "      <td>667</td>\n",
       "      <td>4066.000000</td>\n",
       "      <td>4740</td>\n",
       "      <td>39.5</td>\n",
       "      <td>0</td>\n",
       "      <td>0</td>\n",
       "    </tr>\n",
       "  </tbody>\n",
       "</table>\n",
       "</div>"
      ],
      "text/plain": [
       "   credit.policy             purpose  int.rate  installment  log.annual.inc  \\\n",
       "0              1  debt_consolidation    0.1189       829.10       11.350407   \n",
       "1              1         credit_card    0.1071       228.22       11.082143   \n",
       "2              1  debt_consolidation    0.1357       366.86       10.373491   \n",
       "3              1  debt_consolidation    0.1008       162.34       11.350407   \n",
       "4              1         credit_card    0.1426       102.92       11.299732   \n",
       "\n",
       "     dti  fico  days.with.cr.line  revol.bal  revol.util  inq.last.6mths  \\\n",
       "0  19.48   737        5639.958333      28854        52.1               0   \n",
       "1  14.29   707        2760.000000      33623        76.7               0   \n",
       "2  11.63   682        4710.000000       3511        25.6               1   \n",
       "3   8.10   712        2699.958333      33667        73.2               1   \n",
       "4  14.97   667        4066.000000       4740        39.5               0   \n",
       "\n",
       "   not.fully.paid  \n",
       "0               0  \n",
       "1               0  \n",
       "2               0  \n",
       "3               0  \n",
       "4               0  "
      ]
     },
     "execution_count": 41,
     "metadata": {},
     "output_type": "execute_result"
    }
   ],
   "source": [
    "# Please don't alter this part. \n",
    "df = pd.read_csv(\"loan_data.csv\")\n",
    "df.drop(columns={\"delinq.2yrs\", \"pub.rec\"}, inplace=True)\n",
    "df.head()"
   ]
  },
  {
   "cell_type": "markdown",
   "metadata": {},
   "source": [
    "### Visualize/Explore Data - If You Want, You Do You"
   ]
  },
  {
   "cell_type": "code",
   "execution_count": null,
   "metadata": {},
   "outputs": [],
   "source": []
  },
  {
   "cell_type": "markdown",
   "metadata": {},
   "source": [
    "## Solutions"
   ]
  },
  {
   "cell_type": "code",
   "execution_count": 13,
   "metadata": {},
   "outputs": [
    {
     "data": {
      "text/html": [
       "<div>\n",
       "<style scoped>\n",
       "    .dataframe tbody tr th:only-of-type {\n",
       "        vertical-align: middle;\n",
       "    }\n",
       "\n",
       "    .dataframe tbody tr th {\n",
       "        vertical-align: top;\n",
       "    }\n",
       "\n",
       "    .dataframe thead th {\n",
       "        text-align: right;\n",
       "    }\n",
       "</style>\n",
       "<table border=\"1\" class=\"dataframe\">\n",
       "  <thead>\n",
       "    <tr style=\"text-align: right;\">\n",
       "      <th></th>\n",
       "      <th>fico</th>\n",
       "      <th>not.fully.paid</th>\n",
       "    </tr>\n",
       "  </thead>\n",
       "  <tbody>\n",
       "    <tr>\n",
       "      <th>7984</th>\n",
       "      <td>652</td>\n",
       "      <td>0</td>\n",
       "    </tr>\n",
       "    <tr>\n",
       "      <th>5577</th>\n",
       "      <td>712</td>\n",
       "      <td>0</td>\n",
       "    </tr>\n",
       "    <tr>\n",
       "      <th>1551</th>\n",
       "      <td>717</td>\n",
       "      <td>0</td>\n",
       "    </tr>\n",
       "    <tr>\n",
       "      <th>327</th>\n",
       "      <td>757</td>\n",
       "      <td>0</td>\n",
       "    </tr>\n",
       "    <tr>\n",
       "      <th>4973</th>\n",
       "      <td>677</td>\n",
       "      <td>0</td>\n",
       "    </tr>\n",
       "    <tr>\n",
       "      <th>7850</th>\n",
       "      <td>647</td>\n",
       "      <td>1</td>\n",
       "    </tr>\n",
       "    <tr>\n",
       "      <th>207</th>\n",
       "      <td>702</td>\n",
       "      <td>1</td>\n",
       "    </tr>\n",
       "    <tr>\n",
       "      <th>7091</th>\n",
       "      <td>727</td>\n",
       "      <td>0</td>\n",
       "    </tr>\n",
       "    <tr>\n",
       "      <th>2847</th>\n",
       "      <td>662</td>\n",
       "      <td>0</td>\n",
       "    </tr>\n",
       "    <tr>\n",
       "      <th>2337</th>\n",
       "      <td>672</td>\n",
       "      <td>1</td>\n",
       "    </tr>\n",
       "  </tbody>\n",
       "</table>\n",
       "</div>"
      ],
      "text/plain": [
       "      fico  not.fully.paid\n",
       "7984   652               0\n",
       "5577   712               0\n",
       "1551   717               0\n",
       "327    757               0\n",
       "4973   677               0\n",
       "7850   647               1\n",
       "207    702               1\n",
       "7091   727               0\n",
       "2847   662               0\n",
       "2337   672               1"
      ]
     },
     "execution_count": 13,
     "metadata": {},
     "output_type": "execute_result"
    }
   ],
   "source": [
    "df[[\"fico\",\"not.fully.paid\"]].sample(10)"
   ]
  },
  {
   "cell_type": "code",
   "execution_count": 54,
   "metadata": {},
   "outputs": [
    {
     "data": {
      "text/plain": [
       "4.227100096647354e-49"
      ]
     },
     "execution_count": 54,
     "metadata": {},
     "output_type": "execute_result"
    }
   ],
   "source": [
    "dfPaid = df[df[\"not.fully.paid\"] == 0]\n",
    "dfPaid = dfPaid[\"fico\"]\n",
    "dfUnpaid = df[df[\"not.fully.paid\"] == 1]\n",
    "dfUnpaid = dfUnpaid[\"fico\"]\n",
    "varStat, varP = ss.ttest_ind(dfPaid, dfUnpaid)\n",
    "varP"
   ]
  },
  {
   "cell_type": "code",
   "execution_count": 56,
   "metadata": {},
   "outputs": [
    {
     "name": "stdout",
     "output_type": "stream",
     "text": [
      "2.6100416830751396e-271\n"
     ]
    }
   ],
   "source": [
    "dfApproved = df[df[\"credit.policy\"] == 1]\n",
    "dfApproved = dfApproved[\"fico\"]\n",
    "dfNotApproved = df[df[\"credit.policy\"] == 0]\n",
    "dfNotApproved = dfNotApproved[\"fico\"]\n",
    "\n",
    "varStat, varP = ss.ttest_ind(dfApproved, dfNotApproved)\n",
    "print(varP)"
   ]
  },
  {
   "cell_type": "code",
   "execution_count": 50,
   "metadata": {},
   "outputs": [
    {
     "name": "stdout",
     "output_type": "stream",
     "text": [
      "1.0\n",
      "1157.6455504969408\n"
     ]
    }
   ],
   "source": [
    "dfIncApproved = df[df[\"credit.policy\"] == 1]\n",
    "dfIncApproved = dfIncApproved[\"log.annual.inc\"]\n",
    "dfIncNotApproved = df[df[\"credit.policy\"] == 0]\n",
    "dfIncNotApproved = dfIncNotApproved[\"log.annual.inc\"]\n",
    "\n",
    "ces = thinkstats2.CohenEffectSize(dfIncNotApproved,dfIncApproved)\n",
    "alpha = 0.05\n",
    "nobs = dfApproved.count() + dfNotApproved.count()\n",
    "\n",
    "powerTest = TTestPower()\n",
    "pow = powerTest.power(effect_size=ces, nobs=nobs, alpha=alpha)\n",
    "print(pow)\n",
    "\n",
    "n = powerTest.solve_power(ces, power=.85, nobs=None, alpha=alpha)\n",
    "print(n)"
   ]
  },
  {
   "cell_type": "code",
   "execution_count": 53,
   "metadata": {},
   "outputs": [
    {
     "name": "stdout",
     "output_type": "stream",
     "text": [
      "9.59354898996782 1.1557482270969546 0.4712597399323796\n"
     ]
    }
   ],
   "source": [
    "df[\"Income\"] = np.exp(df[\"log.annual.inc\"])\n",
    "np.mean(df[\"Income\"])\n",
    "print(df.Income.skew(), df[\"days.with.cr.line\"].skew(), df.fico.skew())"
   ]
  },
  {
   "cell_type": "code",
   "execution_count": 104,
   "metadata": {},
   "outputs": [
    {
     "name": "stdout",
     "output_type": "stream",
     "text": [
      "7.630749644284833e-16\n"
     ]
    }
   ],
   "source": [
    "dfPoor = df[(df[\"fico\"] < 579) & (df[\"fico\"] > 300)]\n",
    "dfFair = df[(df[\"fico\"] < 669) & (df[\"fico\"] > 580)]\n",
    "dfGood = df[(df[\"fico\"] < 739) & (df[\"fico\"] > 670)]\n",
    "dfVeryGood = df[(df[\"fico\"] < 799) & (df[\"fico\"] > 740)]\n",
    "dfExcellent = df[(df[\"fico\"] < 850) & (df[\"fico\"] > 800)]\n",
    "\n",
    "stat, pval = ss.f_oneway(dfFair.Income,dfGood.Income,dfVeryGood.Income,dfExcellent.Income)\n",
    "print(pval)"
   ]
  },
  {
   "cell_type": "code",
   "execution_count": 97,
   "metadata": {},
   "outputs": [],
   "source": [
    "group = []\n",
    "for i in range(0,df['fico'].count()):\n",
    "    if (df[\"fico\"].iloc[i] < 579) & (df[\"fico\"].iloc[i] > 300):\n",
    "        group.append('Poor')\n",
    "    elif (df[\"fico\"].iloc[i] < 669) & (df[\"fico\"].iloc[i] > 580):\n",
    "        group.append('Fair')\n",
    "    elif (df[\"fico\"].iloc[i] < 739) & (df[\"fico\"].iloc[i] > 670):\n",
    "        group.append('Good')\n",
    "    elif (df[\"fico\"].iloc[i] < 799) & (df[\"fico\"].iloc[i] > 740):\n",
    "        group.append('Very Good')\n",
    "    elif (df[\"fico\"].iloc[i] < 850) & (df[\"fico\"].iloc[i] > 800):\n",
    "        group.append('Excellent')\n",
    "    else:\n",
    "        group.append('Low')\n",
    "\n",
    "df['FICOGroup'] = group"
   ]
  },
  {
   "cell_type": "code",
   "execution_count": 108,
   "metadata": {},
   "outputs": [
    {
     "data": {
      "text/plain": [
       "<AxesSubplot:xlabel='fico', ylabel='Density'>"
      ]
     },
     "execution_count": 108,
     "metadata": {},
     "output_type": "execute_result"
    },
    {
     "data": {
      "image/png": "[encoded data removed]",
      "text/plain": [
       "<Figure size 1080x360 with 1 Axes>"
      ]
     },
     "metadata": {
      "needs_background": "light"
     },
     "output_type": "display_data"
    }
   ],
   "source": [
    "sns.kdeplot(df['fico'])\n"
   ]
  },
  {
   "cell_type": "code",
   "execution_count": 103,
   "metadata": {},
   "outputs": [
    {
     "name": "stdout",
     "output_type": "stream",
     "text": [
      "0.0 14.0 62.72 21.77 1.51\n",
      "16 17 21 25 21\n"
     ]
    }
   ],
   "source": [
    "poorRatio = dfPoor.fico.count()/df.fico.count()\n",
    "fairRatio = dfFair.fico.count()/df.fico.count()\n",
    "goodRatio = dfGood.fico.count()/df.fico.count()\n",
    "verygoodRatio = dfVeryGood.fico.count()/df.fico.count()\n",
    "excellentRatio = dfExcellent.fico.count()/df.fico.count()\n",
    "print(poorRatio*100, round(fairRatio*100,2), round(goodRatio*100,2), round(verygoodRatio*100,2), round(excellentRatio*100,2))\n",
    "print(16,17,21,25,21)"
   ]
  },
  {
   "cell_type": "code",
   "execution_count": 68,
   "metadata": {},
   "outputs": [
    {
     "name": "stdout",
     "output_type": "stream",
     "text": [
      "7.850646566487374e-05\n",
      "0.0864883924018427\n",
      "0.010835757689284353\n"
     ]
    }
   ],
   "source": [
    "yCreditScore = np.array(df[\"credit.policy\"]).reshape(-1,1)\n",
    "xIntRate = np.array(df['int.rate']).reshape(-1,1)\n",
    "xIncome = np.array(df[\"Income\"]).reshape(-1,1)\n",
    "xRevolUtil = np.array(df['revol.util']).reshape(-1,1)\n",
    "model = LinearRegression().fit(xIncome,yCreditScore)\n",
    "print(model.score(xIncome,yCreditScore))\n",
    "model = LinearRegression().fit(xIntRate,yCreditScore)\n",
    "print(model.score(xIntRate,yCreditScore))\n",
    "model = LinearRegression().fit(xRevolUtil,yCreditScore)\n",
    "print(model.score(xRevolUtil,yCreditScore))"
   ]
  }
 ],
 "metadata": {
  "kernelspec": {
   "display_name": "Python 3.9.12 ('base')",
   "language": "python",
   "name": "python3"
  },
  "language_info": {
   "codemirror_mode": {
    "name": "ipython",
    "version": 3
   },
   "file_extension": ".py",
   "mimetype": "text/x-python",
   "name": "python",
   "nbconvert_exporter": "python",
   "pygments_lexer": "ipython3",
   "version": "3.9.12"
  },
  "orig_nbformat": 4,
  "vscode": {
   "interpreter": {
    "hash": "1e1be0c565fc6ceb354f856a5b5bd946923d5e000f9c5ccf57138e681b445cb2"
   }
  }
 },
 "nbformat": 4,
 "nbformat_minor": 2
}
